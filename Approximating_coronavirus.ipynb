{
 "cells": [
  {
   "cell_type": "code",
   "execution_count": 1,
   "metadata": {},
   "outputs": [
    {
     "data": {
      "text/plain": [
       "'Trying to do a curve-of-best-fit to the current coronavirus cases in the UK and keep track '"
      ]
     },
     "execution_count": 1,
     "metadata": {},
     "output_type": "execute_result"
    }
   ],
   "source": [
    "\"\"\"Trying to do a curve-of-best-fit to the current coronavirus cases in the UK and keep track \"\"\"\n",
    "\n",
    "# For that I will need the data points (day,cases) and will try to approximate what happens\n",
    "# if we continue with that tendency \n",
    "# check for improvements "
   ]
  },
  {
   "cell_type": "code",
   "execution_count": 2,
   "metadata": {},
   "outputs": [],
   "source": [
    "# Import important packages first as always\n",
    "# Im following this: https://stackoverflow.com/questions/19165259/python-numpy-scipy-curve-fitting\n",
    "import numpy as np\n",
    "import matplotlib.pyplot as plt\n",
    "from scipy.optimize import curve_fit\n",
    "import datetime as dt"
   ]
  },
  {
   "cell_type": "code",
   "execution_count": 4,
   "metadata": {},
   "outputs": [
    {
     "name": "stdout",
     "output_type": "stream",
     "text": [
      "day zero 031\n",
      "today 079\n"
     ]
    }
   ],
   "source": [
    "# Getting data points (x-axis) so far:\n",
    "# First cases: January 31st\n",
    "# Counting the days using datetime module\n",
    "\n",
    "now = dt.datetime.now()\n",
    "\n",
    "# creating date: (year,month,day)\n",
    "\n",
    "d_day = dt.datetime(2020,1,31)  # when virus started\n",
    "t_day = dt.datetime.now()\n",
    "\n",
    "# day from 001 to 366 which it started\n",
    "day_zero = d_day.strftime(\"%j\")\n",
    "day_n    = t_day.strftime(\"%j\")\n",
    "\n",
    "print(\"day zero\", day_zero)\n",
    "print(\"today\", day_n)\n",
    "\n",
    "int_days = int(day_n) - int(day_zero)\n",
    "# create list with all the day up until today\n",
    "days = []\n",
    "for i in range(int_days):\n",
    "    d = i \n",
    "    days.append(d)\n",
    "\n",
    "x_days = np.array(days)\n",
    "\n",
    "    \n"
   ]
  },
  {
   "cell_type": "code",
   "execution_count": 5,
   "metadata": {},
   "outputs": [
    {
     "name": "stdout",
     "output_type": "stream",
     "text": [
      "48\n",
      "48\n"
     ]
    }
   ],
   "source": [
    "# Getting data points (y-axis)\n",
    "\n",
    "# Im first doing it by hand to get it working but will aim to automatically download from the\n",
    "# gov website and then it updates automatically\n",
    "\n",
    "cases = [2,2,2,2,2,2,3,3,3,4,8,8,8,9,9,9,9,9,9,9,9,9,9,9,13,13,13,13,19,23,35,40,51,85,114,160,\n",
    "        206,271,321,373,456,590,797,1061,1391,1543,1950,2696]\n",
    "\n",
    "y_cases = np.array(cases)\n",
    "\n",
    "# comparing they match:\n",
    "\n",
    "print(len(y_cases))\n",
    "print(len(x_days))"
   ]
  },
  {
   "cell_type": "code",
   "execution_count": 11,
   "metadata": {},
   "outputs": [
    {
     "data": {
      "image/png": "[encoded data removed]",
      "text/plain": [
       "<Figure size 432x288 with 1 Axes>"
      ]
     },
     "metadata": {
      "needs_background": "light"
     },
     "output_type": "display_data"
    }
   ],
   "source": [
    "# Making rough graph to visualize\n",
    "\n",
    "plt.plot(x_days,y_cases, \".\")\n",
    "plt.xlabel('Days since first case')\n",
    "plt.ylabel('Total UK cases')\n",
    "plt.title(\"Number of cases as a function of time\")\n",
    "plt.show()"
   ]
  },
  {
   "cell_type": "code",
   "execution_count": 17,
   "metadata": {},
   "outputs": [
    {
     "name": "stdout",
     "output_type": "stream",
     "text": [
      "[0.03393585 1.2705752 ]\n"
     ]
    }
   ],
   "source": [
    "# Now we are going to do the approximation\n",
    "\n",
    "# curve_fit also requires a function that provides the type of fit you would like. \n",
    "# For instance, a linear fit would use a function like\n",
    "\n",
    "# def func(x, a, b):\n",
    "    # return a*x + b\n",
    "    \n",
    "def func(days, a, d):\n",
    "    return a*(d**(days))\n",
    "\n",
    "\n",
    "params = curve_fit(func, days, cases)\n",
    "\n",
    "# scipy.optimize.curve_fit(func, x, y) will return a numpy array containing two arrays: \n",
    "# the first will contain values for a and b that best fit your data (in this case a and d)\n",
    "# and the second will be the covariance of the optimal fit parameters.\n",
    "\n",
    "# Therefore the best way to approximate current data is using:\n",
    "# y = 0.03393585 * (1.2705752) ^ d\n",
    "print(params[0])"
   ]
  },
  {
   "cell_type": "code",
   "execution_count": 27,
   "metadata": {},
   "outputs": [
    {
     "data": {
      "text/plain": [
       "(array([ 0.,  1.,  2.,  3.,  4.,  5.,  6.,  7.,  8.,  9., 10., 11., 12.,\n",
       "        13., 14., 15., 16., 17., 18., 19., 20., 21., 22., 23., 24., 25.,\n",
       "        26., 27., 28., 29., 30., 31., 32., 33., 34., 35., 36., 37., 38.,\n",
       "        39., 40., 41., 42., 43., 44., 45., 46., 47., 48., 49., 50., 51.,\n",
       "        52., 53., 54.]),\n",
       " array([3.39358546e-02, 4.31180553e-02, 5.47847318e-02, 6.96081217e-02,\n",
       "        8.84423533e-02, 1.12372661e-01, 1.42777916e-01, 1.81410080e-01,\n",
       "        2.30495149e-01, 2.92861421e-01, 3.72102459e-01, 4.72784157e-01,\n",
       "        6.00707825e-01, 7.63244467e-01, 9.69759493e-01, 1.23215236e+00,\n",
       "        1.56554224e+00, 1.98913915e+00, 2.52735087e+00, 3.21118935e+00,\n",
       "        4.08005755e+00, 5.18401995e+00, 6.58668719e+00, 8.36888141e+00,\n",
       "        1.06332932e+01, 1.35103986e+01, 1.71659775e+01, 2.18106653e+01,\n",
       "        2.77120905e+01, 3.52102950e+01, 4.47373277e+01, 5.68421391e+01,\n",
       "        7.22222124e+01, 9.17637522e+01, 1.16592748e+02, 1.48139854e+02,\n",
       "        1.88222825e+02, 2.39151254e+02, 3.03859653e+02, 3.86076540e+02,\n",
       "        4.90539278e+02, 6.23267043e+02, 7.91907649e+02, 1.00617822e+03,\n",
       "        1.27842510e+03, 1.62433523e+03, 2.06384006e+03, 2.62226400e+03,\n",
       "        3.33178361e+03, 4.23328163e+03, 5.37870267e+03, 6.83404623e+03,\n",
       "        8.68316967e+03, 1.10326201e+04, 1.40177735e+04]))"
      ]
     },
     "execution_count": 27,
     "metadata": {},
     "output_type": "execute_result"
    }
   ],
   "source": [
    "# Now that we have the parameters of our exponential lets make another rough sketch following the function using\n",
    "# test data and see how it compares to the previous one\n",
    "\n",
    "def func_fit(test_days, j, k):\n",
    "    return j*(k**test_days)\n",
    "\n",
    "j = params[0][0]\n",
    "k = params[0][1]\n",
    "\n",
    "# lets use the same domain of days:\n",
    "\n",
    "test_days  = np.linspace(0,54,55)\n",
    "test_cases = []\n",
    "\n",
    "for i in range(len(test_days)):\n",
    "    n_cases = func_fit(test_days[i],j,k)\n",
    "    test_cases.append(n_cases)\n",
    "\n",
    "test_days, np.array(test_cases)"
   ]
  },
  {
   "cell_type": "code",
   "execution_count": 25,
   "metadata": {},
   "outputs": [
    {
     "data": {
      "image/png": "[encoded data removed]",
      "text/plain": [
       "<Figure size 432x288 with 1 Axes>"
      ]
     },
     "metadata": {
      "needs_background": "light"
     },
     "output_type": "display_data"
    }
   ],
   "source": [
    "# Comparing fit curve to data:\n",
    "\n",
    "plt.plot(x_days,y_cases, \".\")\n",
    "plt.plot(test_days, test_cases)\n",
    "plt.xlabel('Days since first case')\n",
    "plt.ylabel('Total UK cases')\n",
    "plt.title(\"Number of cases as a function of time\")\n",
    "plt.show()"
   ]
  },
  {
   "cell_type": "code",
   "execution_count": null,
   "metadata": {},
   "outputs": [],
   "source": []
  }
 ],
 "metadata": {
  "kernelspec": {
   "display_name": "Python 3",
   "language": "python",
   "name": "python3"
  },
  "language_info": {
   "codemirror_mode": {
    "name": "ipython",
    "version": 3
   },
   "file_extension": ".py",
   "mimetype": "text/x-python",
   "name": "python",
   "nbconvert_exporter": "python",
   "pygments_lexer": "ipython3",
   "version": "3.7.6"
  }
 },
 "nbformat": 4,
 "nbformat_minor": 4
}
